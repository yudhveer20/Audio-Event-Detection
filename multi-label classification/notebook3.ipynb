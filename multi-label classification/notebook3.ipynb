{
  "cells": [
    {
      "cell_type": "code",
      "execution_count": 1,
      "metadata": {
        "id": "k3rU1x7Le5qT"
      },
      "outputs": [],
      "source": [
        "import numpy as np\n",
        "import tensorflow as tf\n",
        "from tensorflow import keras\n",
        "from tensorflow.keras import layers\n",
        "from tensorflow.keras.models import Sequential\n",
        "from sklearn.model_selection import train_test_split\n",
        "import matplotlib.pyplot as plt\n",
        "import pandas as pd\n",
        "import os\n",
        "import math\n",
        "from scipy.ndimage import gaussian_filter\n",
        "from sklearn.preprocessing import OneHotEncoder\n",
        "import random\n",
        "from keras.utils.np_utils import to_categorical   \n",
        "from tensorflow.keras.models import load_model\n",
        "from keras.callbacks import ModelCheckpoint\n",
        "from keras import backend as K\n",
        "from sklearn.neighbors import KNeighborsClassifier\n",
        "from sklearn.utils import class_weight"
      ]
    },
    {
      "cell_type": "markdown",
      "source": [
        "# Data Loading "
      ],
      "metadata": {
        "id": "r992UCL7-QAq"
      }
    },
    {
      "cell_type": "code",
      "execution_count": 2,
      "metadata": {
        "id": "pcW0LxFohK1T"
      },
      "outputs": [],
      "source": [
        "X_path = \"/content/drive/MyDrive/dataset/X\"\n",
        "Y_path = \"/content/drive/MyDrive/dataset/Y\""
      ]
    },
    {
      "cell_type": "code",
      "source": [
        "X_val_path = \"/content/drive/MyDrive/val_dataset/X\"\n",
        "Y_val_path = \"/content/drive/MyDrive/val_dataset/Y\""
      ],
      "metadata": {
        "id": "0lAZZJ8xQKM6"
      },
      "execution_count": 3,
      "outputs": []
    },
    {
      "cell_type": "code",
      "execution_count": 4,
      "metadata": {
        "id": "zVkrPsXMiXDH"
      },
      "outputs": [],
      "source": [
        "X_val_name_list  = os.listdir(X_val_path)\n",
        "Y_val_name_list = os.listdir(Y_val_path)"
      ]
    },
    {
      "cell_type": "code",
      "source": [
        "print(len(X_val_name_list))"
      ],
      "metadata": {
        "id": "kQu4dfppkt35",
        "colab": {
          "base_uri": "https://localhost:8080/"
        },
        "outputId": "2e59b1e0-a3a5-4f56-a2ea-b7dcc61a8d7c"
      },
      "execution_count": 5,
      "outputs": [
        {
          "output_type": "stream",
          "name": "stdout",
          "text": [
            "2000\n"
          ]
        }
      ]
    },
    {
      "cell_type": "code",
      "source": [
        "X_name_list  = os.listdir(X_path)\n",
        "Y_name_list = os.listdir(Y_path)"
      ],
      "metadata": {
        "id": "W15s4Uc-QP0L"
      },
      "execution_count": 6,
      "outputs": []
    },
    {
      "cell_type": "code",
      "source": [
        "X_val_name_list.sort()\n",
        "Y_val_name_list.sort()"
      ],
      "metadata": {
        "id": "54qgRkdqQnwl"
      },
      "execution_count": 7,
      "outputs": []
    },
    {
      "cell_type": "code",
      "execution_count": 8,
      "metadata": {
        "id": "w78XXJ5EjC7S"
      },
      "outputs": [],
      "source": [
        "X_name_list.sort()\n",
        "Y_name_list.sort()"
      ]
    },
    {
      "cell_type": "code",
      "execution_count": 9,
      "metadata": {
        "id": "RxYC8768i3gF",
        "colab": {
          "base_uri": "https://localhost:8080/"
        },
        "outputId": "5f08da2e-1fcd-45a9-e9d6-5e8e3c165bca"
      },
      "outputs": [
        {
          "output_type": "stream",
          "name": "stdout",
          "text": [
            "['melspec_0.npy', 'melspec_1.npy', 'melspec_10.npy', 'melspec_100.npy', 'melspec_1000.npy', 'melspec_1001.npy', 'melspec_1002.npy', 'melspec_1003.npy', 'melspec_1004.npy', 'melspec_1005.npy'] ['eventroll_0.npy', 'eventroll_1.npy', 'eventroll_10.npy', 'eventroll_100.npy', 'eventroll_1000.npy', 'eventroll_1001.npy', 'eventroll_1002.npy', 'eventroll_1003.npy', 'eventroll_1004.npy', 'eventroll_1005.npy']\n"
          ]
        }
      ],
      "source": [
        "print(X_name_list[0:10] , Y_name_list[0:10])"
      ]
    },
    {
      "cell_type": "code",
      "execution_count": 10,
      "metadata": {
        "id": "6hqf7TdQih8p"
      },
      "outputs": [],
      "source": [
        "sample_spectrogram = np.load(os.path.join(X_path , X_name_list[180]) , allow_pickle = True) \n",
        "sample_label = np.load(os.path.join(Y_path , Y_name_list[180]) , allow_pickle = True) "
      ]
    },
    {
      "cell_type": "markdown",
      "source": [
        "# Some Basic Functions"
      ],
      "metadata": {
        "id": "aVSMM_9o-UQN"
      }
    },
    {
      "cell_type": "code",
      "execution_count": 11,
      "metadata": {
        "id": "xrt9Dt0Ij0Ky"
      },
      "outputs": [],
      "source": [
        "def addDim(mat) :\n",
        "  return np.expand_dims(mat , axis = 2)\n",
        "def reduceDim(mat) :\n",
        "  return mat[0]"
      ]
    },
    {
      "cell_type": "code",
      "execution_count": 12,
      "metadata": {
        "id": "XGLyaQIYkPkS"
      },
      "outputs": [],
      "source": [
        "def plotSpectrogram(comp ,mat , title1 , mat2= None , title2=None ) :\n",
        "  if comp == False :\n",
        "    plt.pcolor(mat , cmap = 'plasma')\n",
        "    plt.title(title1)\n",
        "    plt.show()\n",
        "  else :\n",
        "    plt.figure(figsize=(16,8))\n",
        "    plt.subplot(1,2,1) \n",
        "    plt.pcolor(mat , cmap = 'plasma')\n",
        "    plt.title(title1)\n",
        "    plt.subplot(1,2,2)\n",
        "    plt.pcolor(mat2 , cmap = 'plasma')\n",
        "    plt.title(title2)\n",
        "    plt.show()"
      ]
    },
    {
      "cell_type": "code",
      "execution_count": 13,
      "metadata": {
        "id": "Tgqklaq_l1kf"
      },
      "outputs": [],
      "source": [
        "events_types = {\n",
        "    0: 'Alarm_bell_ringing', \n",
        "    1: 'Blender', \n",
        "    2: 'Cat', \n",
        "    3: 'Dishes', \n",
        "    4: 'Dog',\n",
        "    5: 'Electric_shaver_toothbrush', \n",
        "    6: 'Frying', \n",
        "    7: 'Running_water',\n",
        "    8: 'Speech', \n",
        "    9: 'Vacuum_cleaner'\n",
        "}\n"
      ]
    },
    {
      "cell_type": "code",
      "execution_count": 14,
      "metadata": {
        "id": "5OGypgt8lHnu"
      },
      "outputs": [],
      "source": [
        "def eventroll_to_multihot_vector(eventroll):\n",
        "    \"\"\"\n",
        "    Parameters\n",
        "    ----------\n",
        "    eventroll : np.array\n",
        "        Eventroll matrix of shape=(11, 1000).\n",
        "    \n",
        "    Returns\n",
        "    -------\n",
        "    np.array\n",
        "        A multihot vector of shape=(10,)\n",
        "    \"\"\"\n",
        "    \n",
        "    # findout active events:\n",
        "    active_events = (eventroll.sum(axis=1) >= 0.5).astype('float')\n",
        "    \n",
        "    # remove silence class:\n",
        "    return np.delete(active_events, 8)"
      ]
    },
    {
      "cell_type": "code",
      "execution_count": 15,
      "metadata": {
        "id": "7RWAy_5nnE8B"
      },
      "outputs": [],
      "source": [
        "sample_vector = eventroll_to_multihot_vector(sample_label)"
      ]
    },
    {
      "cell_type": "code",
      "execution_count": 16,
      "metadata": {
        "id": "S_-2dO2sqhWl",
        "colab": {
          "base_uri": "https://localhost:8080/"
        },
        "outputId": "a5ce3c11-3222-4581-f9a2-76406ec12fa0"
      },
      "outputs": [
        {
          "output_type": "stream",
          "name": "stdout",
          "text": [
            "0.00010967552\n"
          ]
        }
      ],
      "source": [
        "print(np.min(sample_spectrogram))"
      ]
    },
    {
      "cell_type": "code",
      "execution_count": 17,
      "metadata": {
        "id": "P3w_PDlakUsn",
        "colab": {
          "base_uri": "https://localhost:8080/",
          "height": 562
        },
        "outputId": "500e9462-51f1-4e93-fd79-cb907b930e87"
      },
      "outputs": [
        {
          "output_type": "display_data",
          "data": {
            "text/plain": [
              "<Figure size 432x288 with 1 Axes>"
            ],
            "image/png": "[encoded data removed]"
          },
          "metadata": {
            "needs_background": "light"
          }
        },
        {
          "output_type": "display_data",
          "data": {
            "text/plain": [
              "<Figure size 432x288 with 1 Axes>"
            ],
            "image/png": "[encoded data removed]"
          },
          "metadata": {
            "needs_background": "light"
          }
        },
        {
          "output_type": "stream",
          "name": "stdout",
          "text": [
            "[0. 0. 0. 1. 0. 0. 1. 0. 1. 0.]\n"
          ]
        }
      ],
      "source": [
        "plotSpectrogram(False, reduceDim(sample_spectrogram) , \"sample_spectrogram\")\n",
        "plotSpectrogram(False , sample_label ,  \"sample_label\")\n",
        "print(sample_vector)"
      ]
    },
    {
      "cell_type": "code",
      "source": [
        "X = []\n",
        "Y = []\n",
        "for i in X_name_list :\n",
        "  X.append(np.load(os.path.join(X_path , i) , allow_pickle = True))\n",
        "for i in Y_name_list :\n",
        "  Y.append(np.load(os.path.join(Y_path , i), allow_pickle = True))\n",
        "X = np.array(X)\n",
        "Y = np.array(Y)\n",
        "np.save(\"/content/drive/MyDrive/X.npy\" , X ) \n",
        "np.save(\"/content/drive/MyDrive/Y.npy\" , Y ) "
      ],
      "metadata": {
        "id": "sOHXWOf1mv1a"
      },
      "execution_count": null,
      "outputs": []
    },
    {
      "cell_type": "code",
      "source": [
        "X = np.load(\"/content/drive/MyDrive/X.npy\")"
      ],
      "metadata": {
        "id": "UGLmAnNPBH2z"
      },
      "execution_count": 18,
      "outputs": []
    },
    {
      "cell_type": "code",
      "source": [
        "X_copy = []"
      ],
      "metadata": {
        "id": "QUbEovOpohjh"
      },
      "execution_count": 19,
      "outputs": []
    },
    {
      "cell_type": "code",
      "source": [
        "for i in X :\n",
        "  X_copy.append(addDim(reduceDim(i)))"
      ],
      "metadata": {
        "id": "k13lOSZNXIT-"
      },
      "execution_count": 20,
      "outputs": []
    },
    {
      "cell_type": "code",
      "source": [
        "X_copy = np.array(X_copy)"
      ],
      "metadata": {
        "id": "hZUFvFSJosnw"
      },
      "execution_count": 21,
      "outputs": []
    },
    {
      "cell_type": "code",
      "source": [
        "print(np.shape(X_copy[1]))"
      ],
      "metadata": {
        "id": "Sbn9VuqjGPg-",
        "colab": {
          "base_uri": "https://localhost:8080/"
        },
        "outputId": "651801a9-6dc4-4bf4-e586-9aa54847f412"
      },
      "execution_count": 22,
      "outputs": [
        {
          "output_type": "stream",
          "name": "stdout",
          "text": [
            "(64, 1000, 1)\n"
          ]
        }
      ]
    },
    {
      "cell_type": "code",
      "source": [
        "X_val = []\n",
        "Y_val = []\n",
        "\n",
        "for i in X_val_name_list :\n",
        "  X_val.append(np.load(os.path.join(X_val_path , i) , allow_pickle = True))\n",
        "for i in Y_val_name_list :\n",
        "  Y_val.append(np.load(os.path.join(Y_val_path , i), allow_pickle = True))\n",
        "X_val = np.array(X_val)\n",
        "Y_val = np.array(Y_val)\n",
        "np.save(\"/content/drive/MyDrive/X_val.npy\" , X_val ) \n",
        "np.save(\"/content/drive/MyDrive/Y_val.npy\" , Y_val ) "
      ],
      "metadata": {
        "id": "Zq8H6ralQzfs"
      },
      "execution_count": null,
      "outputs": []
    },
    {
      "cell_type": "code",
      "source": [
        "X =  np.load(\"/content/drive/MyDrive/X.npy\")\n",
        "Y = np.load(\"/content/drive/MyDrive/Y.npy\")"
      ],
      "metadata": {
        "id": "OfZj3z-i2MQG"
      },
      "execution_count": 23,
      "outputs": []
    },
    {
      "cell_type": "code",
      "source": [
        "Y_multihot = []\n",
        "for i in Y :\n",
        "  Y_multihot.append(eventroll_to_multihot_vector(i))\n",
        "Y_multihot  = np.array(Y_multihot)"
      ],
      "metadata": {
        "id": "6Q6SJNeyU8Fz"
      },
      "execution_count": 24,
      "outputs": []
    },
    {
      "cell_type": "code",
      "source": [
        "print( np.shape(Y_multihot))"
      ],
      "metadata": {
        "id": "82UZ5wfTVi3i",
        "colab": {
          "base_uri": "https://localhost:8080/"
        },
        "outputId": "fc87173d-86de-4a6c-870a-371b88ee8410"
      },
      "execution_count": 25,
      "outputs": [
        {
          "output_type": "stream",
          "name": "stdout",
          "text": [
            "(10000, 10)\n"
          ]
        }
      ]
    },
    {
      "cell_type": "code",
      "source": [
        "X_val =  np.load(\"/content/drive/MyDrive/X_val.npy\")\n",
        "Y_val = np.load(\"/content/drive/MyDrive/Y_val.npy\")"
      ],
      "metadata": {
        "id": "wBt9kG9IRH6J"
      },
      "execution_count": 26,
      "outputs": []
    },
    {
      "cell_type": "code",
      "source": [
        "X_val_copy = []\n",
        "for i in X_val :\n",
        "  X_val_copy.append(addDim(reduceDim(i)))\n",
        "X_val_copy = np.array(X_val_copy)"
      ],
      "metadata": {
        "id": "oCGfn2-fXv3u"
      },
      "execution_count": 27,
      "outputs": []
    },
    {
      "cell_type": "code",
      "source": [
        "print(np.shape(X_val_copy[1]))\n"
      ],
      "metadata": {
        "id": "ynZ48L9iIJWE",
        "colab": {
          "base_uri": "https://localhost:8080/"
        },
        "outputId": "d7675362-9bed-4f67-e5f3-44b0efc3fbc0"
      },
      "execution_count": 28,
      "outputs": [
        {
          "output_type": "stream",
          "name": "stdout",
          "text": [
            "(64, 1000, 1)\n"
          ]
        }
      ]
    },
    {
      "cell_type": "code",
      "source": [
        "Y_val_multihot = []\n",
        "for i in Y_val :\n",
        "  Y_val_multihot.append(eventroll_to_multihot_vector(i))\n",
        "Y_val_multihot  = np.array(Y_val_multihot)"
      ],
      "metadata": {
        "id": "S9ZWdu5DV0pl"
      },
      "execution_count": 29,
      "outputs": []
    },
    {
      "cell_type": "code",
      "source": [
        "print( np.shape(Y_val_multihot))\n"
      ],
      "metadata": {
        "id": "l2VrXCWpINxi",
        "colab": {
          "base_uri": "https://localhost:8080/"
        },
        "outputId": "f127f6d6-c219-4066-8c2f-59d8f6819934"
      },
      "execution_count": 30,
      "outputs": [
        {
          "output_type": "stream",
          "name": "stdout",
          "text": [
            "(2000, 10)\n"
          ]
        }
      ]
    },
    {
      "cell_type": "code",
      "source": [
        "from sklearn.metrics import f1_score,precision_score,recall_score"
      ],
      "metadata": {
        "id": "ulIspmXeqVOi"
      },
      "execution_count": 31,
      "outputs": []
    },
    {
      "cell_type": "code",
      "source": [
        "t = Y_multihot.sum(axis =0)\n",
        "print(t)"
      ],
      "metadata": {
        "id": "7AjdXxmyvUS_",
        "colab": {
          "base_uri": "https://localhost:8080/"
        },
        "outputId": "5ab3648f-3b75-45fa-c151-0331583b61fb"
      },
      "execution_count": 32,
      "outputs": [
        {
          "output_type": "stream",
          "name": "stdout",
          "text": [
            "[1499.  993. 1128. 2440. 1412. 1096. 1349. 1219. 9201. 1046.]\n"
          ]
        }
      ]
    },
    {
      "cell_type": "markdown",
      "source": [
        "# Training"
      ],
      "metadata": {
        "id": "A-6bvXmW-eDj"
      }
    },
    {
      "cell_type": "code",
      "source": [
        "def cnn_model() :\n",
        "  cnn = Sequential()\n",
        "  cnn.add(layers.Conv2D(16,(3,3),(2,2), padding = 'same' , activation = 'relu' ,input_shape = (64,1000,1,)))\n",
        "  cnn.add(layers.BatchNormalization())\n",
        "  cnn.add(layers.MaxPool2D())\n",
        "  cnn.add(layers.BatchNormalization())\n",
        "  cnn.add(layers.Conv2D(32 , (3,3) ,padding = 'same' , activation = 'relu'))\n",
        "  cnn.add(layers.BatchNormalization())\n",
        "  cnn.add(layers.MaxPool2D())\n",
        "  cnn.add(layers.BatchNormalization())\n",
        "  cnn.add(layers.Conv2D(64 , (3,3) ,(2,2), padding = 'same' , activation = 'relu'))\n",
        "  cnn.add(layers.BatchNormalization())\n",
        "  cnn.add(layers.Conv2D(64 , (3,3) , padding = 'same'))\n",
        "  cnn.add(layers.BatchNormalization())\n",
        "  cnn.add(layers.GlobalAveragePooling2D())\n",
        "  cnn.add(layers.Dense(128 , activation = 'relu'))\n",
        "  cnn.add(layers.Dense(10 , activation = 'sigmoid'))\n",
        "  cnn.summary()\n",
        "  return cnn"
      ],
      "metadata": {
        "id": "n7rulc3zfRv0"
      },
      "execution_count": 33,
      "outputs": []
    },
    {
      "cell_type": "code",
      "source": [
        "cnn = cnn_model()\n"
      ],
      "metadata": {
        "id": "C2uNu8nONXhc",
        "colab": {
          "base_uri": "https://localhost:8080/"
        },
        "outputId": "87bd1a51-6894-410d-cfd2-35328c03619c"
      },
      "execution_count": 34,
      "outputs": [
        {
          "output_type": "stream",
          "name": "stdout",
          "text": [
            "Model: \"sequential\"\n",
            "_________________________________________________________________\n",
            " Layer (type)                Output Shape              Param #   \n",
            "=================================================================\n",
            " conv2d (Conv2D)             (None, 32, 500, 16)       160       \n",
            "                                                                 \n",
            " batch_normalization (BatchN  (None, 32, 500, 16)      64        \n",
            " ormalization)                                                   \n",
            "                                                                 \n",
            " max_pooling2d (MaxPooling2D  (None, 16, 250, 16)      0         \n",
            " )                                                               \n",
            "                                                                 \n",
            " batch_normalization_1 (Batc  (None, 16, 250, 16)      64        \n",
            " hNormalization)                                                 \n",
            "                                                                 \n",
            " conv2d_1 (Conv2D)           (None, 16, 250, 32)       4640      \n",
            "                                                                 \n",
            " batch_normalization_2 (Batc  (None, 16, 250, 32)      128       \n",
            " hNormalization)                                                 \n",
            "                                                                 \n",
            " max_pooling2d_1 (MaxPooling  (None, 8, 125, 32)       0         \n",
            " 2D)                                                             \n",
            "                                                                 \n",
            " batch_normalization_3 (Batc  (None, 8, 125, 32)       128       \n",
            " hNormalization)                                                 \n",
            "                                                                 \n",
            " conv2d_2 (Conv2D)           (None, 4, 63, 64)         18496     \n",
            "                                                                 \n",
            " batch_normalization_4 (Batc  (None, 4, 63, 64)        256       \n",
            " hNormalization)                                                 \n",
            "                                                                 \n",
            " conv2d_3 (Conv2D)           (None, 4, 63, 64)         36928     \n",
            "                                                                 \n",
            " batch_normalization_5 (Batc  (None, 4, 63, 64)        256       \n",
            " hNormalization)                                                 \n",
            "                                                                 \n",
            " global_average_pooling2d (G  (None, 64)               0         \n",
            " lobalAveragePooling2D)                                          \n",
            "                                                                 \n",
            " dense (Dense)               (None, 128)               8320      \n",
            "                                                                 \n",
            " dense_1 (Dense)             (None, 10)                1290      \n",
            "                                                                 \n",
            "=================================================================\n",
            "Total params: 70,730\n",
            "Trainable params: 70,282\n",
            "Non-trainable params: 448\n",
            "_________________________________________________________________\n"
          ]
        }
      ]
    },
    {
      "cell_type": "code",
      "source": [
        "cnn.compile(optimizer=tf.keras.optimizers.Adam(learning_rate=1e-3), loss= 'binary_crossentropy' , metrics=['binary_accuracy'] )"
      ],
      "metadata": {
        "id": "CvImBHvXNaVU"
      },
      "execution_count": 35,
      "outputs": []
    },
    {
      "cell_type": "code",
      "source": [
        "history = cnn.fit(\n",
        "    x = X_copy , y = Y_multihot,\n",
        "    validation_split = 0.4,\n",
        "    epochs = 15 , \n",
        "    steps_per_epoch = 50,\n",
        "    batch_size = 32,\n",
        ")"
      ],
      "metadata": {
        "id": "defxhL8_NgjY",
        "colab": {
          "base_uri": "https://localhost:8080/"
        },
        "outputId": "a3041941-4f2f-4cad-91d4-f87361cfb2f9"
      },
      "execution_count": 36,
      "outputs": [
        {
          "output_type": "stream",
          "name": "stdout",
          "text": [
            "Epoch 1/15\n",
            "50/50 [==============================] - 56s 1s/step - loss: 0.4314 - binary_accuracy: 0.8456 - val_loss: 0.4489 - val_binary_accuracy: 0.8710\n",
            "Epoch 2/15\n",
            "50/50 [==============================] - 53s 1s/step - loss: 0.3436 - binary_accuracy: 0.8717 - val_loss: 0.4862 - val_binary_accuracy: 0.8710\n",
            "Epoch 3/15\n",
            "50/50 [==============================] - 54s 1s/step - loss: 0.3219 - binary_accuracy: 0.8793 - val_loss: 0.5779 - val_binary_accuracy: 0.8710\n",
            "Epoch 4/15\n",
            "50/50 [==============================] - 53s 1s/step - loss: 0.3215 - binary_accuracy: 0.8770 - val_loss: 0.6689 - val_binary_accuracy: 0.7900\n",
            "Epoch 5/15\n",
            "50/50 [==============================] - 54s 1s/step - loss: 0.3077 - binary_accuracy: 0.8818 - val_loss: 0.5665 - val_binary_accuracy: 0.8708\n",
            "Epoch 6/15\n",
            "50/50 [==============================] - 53s 1s/step - loss: 0.3010 - binary_accuracy: 0.8853 - val_loss: 0.8297 - val_binary_accuracy: 0.7955\n",
            "Epoch 7/15\n",
            "50/50 [==============================] - 55s 1s/step - loss: 0.2875 - binary_accuracy: 0.8878 - val_loss: 0.7182 - val_binary_accuracy: 0.8613\n",
            "Epoch 8/15\n",
            "50/50 [==============================] - 53s 1s/step - loss: 0.2840 - binary_accuracy: 0.8881 - val_loss: 0.7014 - val_binary_accuracy: 0.8590\n",
            "Epoch 9/15\n",
            "50/50 [==============================] - 53s 1s/step - loss: 0.2790 - binary_accuracy: 0.8920 - val_loss: 0.6112 - val_binary_accuracy: 0.8491\n",
            "Epoch 10/15\n",
            "50/50 [==============================] - 55s 1s/step - loss: 0.2802 - binary_accuracy: 0.8899 - val_loss: 0.7380 - val_binary_accuracy: 0.6859\n",
            "Epoch 11/15\n",
            "50/50 [==============================] - 57s 1s/step - loss: 0.2751 - binary_accuracy: 0.8908 - val_loss: 0.5869 - val_binary_accuracy: 0.7929\n",
            "Epoch 12/15\n",
            "50/50 [==============================] - 55s 1s/step - loss: 0.2702 - binary_accuracy: 0.8942 - val_loss: 0.5047 - val_binary_accuracy: 0.8587\n",
            "Epoch 13/15\n",
            "50/50 [==============================] - 57s 1s/step - loss: 0.2648 - binary_accuracy: 0.8964 - val_loss: 0.3682 - val_binary_accuracy: 0.8724\n",
            "Epoch 14/15\n",
            "50/50 [==============================] - 55s 1s/step - loss: 0.2621 - binary_accuracy: 0.8974 - val_loss: 0.5969 - val_binary_accuracy: 0.7919\n",
            "Epoch 15/15\n",
            "50/50 [==============================] - 51s 1s/step - loss: 0.2543 - binary_accuracy: 0.8997 - val_loss: 0.4987 - val_binary_accuracy: 0.8093\n"
          ]
        }
      ]
    },
    {
      "cell_type": "code",
      "source": [
        "def crnn() :\n",
        "  # def model1() :\n",
        "  model = Sequential()\n",
        "  model.add(layers.Conv2D(1,(3,3),(3,1), padding = 'same' , activation = 'relu' ,input_shape = (64,1000,1,)))\n",
        "  model.add(layers.Conv2D(1,(3,3),(3,2), padding = 'same' , activation = 'relu'))\n",
        "  # model.add(layers.Conv2D(1,(3,1),(3,1), padding = 'same' , activation = 'relu'))\n",
        "  model.add(layers.Flatten())\n",
        "  model.add(layers.Embedding( input_dim = 4000 ,output_dim= 500))\n",
        "  model.add(layers.SimpleRNN(128))\n",
        "  model.add(layers.Dense(10 , activation = 'sigmoid'))\n",
        "  model.summary()\n",
        "  return model "
      ],
      "metadata": {
        "id": "AGPVCNX0NnDf"
      },
      "execution_count": 37,
      "outputs": []
    },
    {
      "cell_type": "code",
      "source": [
        "crnn = crnn()"
      ],
      "metadata": {
        "id": "AuTKrJFuODjA",
        "colab": {
          "base_uri": "https://localhost:8080/"
        },
        "outputId": "8eed1eb4-f2c9-4c90-a934-bb6191b8a063"
      },
      "execution_count": 38,
      "outputs": [
        {
          "output_type": "stream",
          "name": "stdout",
          "text": [
            "Model: \"sequential_1\"\n",
            "_________________________________________________________________\n",
            " Layer (type)                Output Shape              Param #   \n",
            "=================================================================\n",
            " conv2d_4 (Conv2D)           (None, 22, 1000, 1)       10        \n",
            "                                                                 \n",
            " conv2d_5 (Conv2D)           (None, 8, 500, 1)         10        \n",
            "                                                                 \n",
            " flatten (Flatten)           (None, 4000)              0         \n",
            "                                                                 \n",
            " embedding (Embedding)       (None, 4000, 500)         2000000   \n",
            "                                                                 \n",
            " simple_rnn (SimpleRNN)      (None, 128)               80512     \n",
            "                                                                 \n",
            " dense_2 (Dense)             (None, 10)                1290      \n",
            "                                                                 \n",
            "=================================================================\n",
            "Total params: 2,081,822\n",
            "Trainable params: 2,081,822\n",
            "Non-trainable params: 0\n",
            "_________________________________________________________________\n"
          ]
        }
      ]
    },
    {
      "cell_type": "code",
      "source": [
        "crnn.compile(optimizer=tf.keras.optimizers.Adam(learning_rate=1e-3), loss= 'binary_crossentropy' , metrics=['binary_accuracy'])"
      ],
      "metadata": {
        "id": "wr51AoI0OY5b"
      },
      "execution_count": 40,
      "outputs": []
    },
    {
      "cell_type": "code",
      "source": [
        "history = crnn.fit(\n",
        "    x = X_copy , y = Y_multihot,\n",
        "    validation_split = 0.2,\n",
        "    epochs = 10 , \n",
        "    steps_per_epoch = 50,\n",
        "    batch_size = 32,\n",
        "\n",
        ")"
      ],
      "metadata": {
        "id": "xxq8sXHsPKv4",
        "colab": {
          "base_uri": "https://localhost:8080/"
        },
        "outputId": "3b167fa3-d236-416a-a7d4-dde0bd761e5c"
      },
      "execution_count": 41,
      "outputs": [
        {
          "output_type": "stream",
          "name": "stdout",
          "text": [
            "Epoch 1/10\n"
          ]
        },
        {
          "output_type": "stream",
          "name": "stderr",
          "text": [
            "WARNING:tensorflow:Gradients do not exist for variables ['conv2d_4/kernel:0', 'conv2d_4/bias:0', 'conv2d_5/kernel:0', 'conv2d_5/bias:0'] when minimizing the loss. If you're using `model.compile()`, did you forget to provide a `loss`argument?\n",
            "WARNING:tensorflow:Gradients do not exist for variables ['conv2d_4/kernel:0', 'conv2d_4/bias:0', 'conv2d_5/kernel:0', 'conv2d_5/bias:0'] when minimizing the loss. If you're using `model.compile()`, did you forget to provide a `loss`argument?\n"
          ]
        },
        {
          "output_type": "stream",
          "name": "stdout",
          "text": [
            "50/50 [==============================] - 375s 7s/step - loss: 0.4038 - binary_accuracy: 0.8658 - val_loss: 0.3835 - val_binary_accuracy: 0.8701\n",
            "Epoch 2/10\n",
            "50/50 [==============================] - 372s 7s/step - loss: 0.3796 - binary_accuracy: 0.8710 - val_loss: 0.3808 - val_binary_accuracy: 0.8701\n",
            "Epoch 3/10\n",
            "50/50 [==============================] - 364s 7s/step - loss: 0.3808 - binary_accuracy: 0.8710 - val_loss: 0.3831 - val_binary_accuracy: 0.8701\n",
            "Epoch 4/10\n",
            "50/50 [==============================] - 365s 7s/step - loss: 0.3840 - binary_accuracy: 0.8683 - val_loss: 0.3826 - val_binary_accuracy: 0.8701\n",
            "Epoch 5/10\n",
            "50/50 [==============================] - 367s 7s/step - loss: 0.3810 - binary_accuracy: 0.8697 - val_loss: 0.3811 - val_binary_accuracy: 0.8701\n",
            "Epoch 6/10\n",
            "50/50 [==============================] - 365s 7s/step - loss: 0.3823 - binary_accuracy: 0.8687 - val_loss: 0.3805 - val_binary_accuracy: 0.8701\n",
            "Epoch 7/10\n",
            "50/50 [==============================] - 362s 7s/step - loss: 0.3855 - binary_accuracy: 0.8686 - val_loss: 0.3818 - val_binary_accuracy: 0.8701\n",
            "Epoch 8/10\n",
            "50/50 [==============================] - 361s 7s/step - loss: 0.3730 - binary_accuracy: 0.8739 - val_loss: 0.3832 - val_binary_accuracy: 0.8701\n",
            "Epoch 9/10\n",
            "50/50 [==============================] - 370s 7s/step - loss: 0.3810 - binary_accuracy: 0.8699 - val_loss: 0.3802 - val_binary_accuracy: 0.8701\n",
            "Epoch 10/10\n",
            "50/50 [==============================] - 367s 7s/step - loss: 0.3815 - binary_accuracy: 0.8700 - val_loss: 0.3809 - val_binary_accuracy: 0.8701\n"
          ]
        }
      ]
    },
    {
      "cell_type": "code",
      "source": [
        "pred_crnn = crnn.predict(x = X_val_copy)\n",
        "pred_cnn = cnn.predict(x = X_val_copy)"
      ],
      "metadata": {
        "id": "CUBydy_IhIhr",
        "colab": {
          "base_uri": "https://localhost:8080/"
        },
        "outputId": "f31876a8-b8ed-4edb-9396-e04b96994dae"
      },
      "execution_count": 42,
      "outputs": [
        {
          "output_type": "stream",
          "name": "stdout",
          "text": [
            "63/63 [==============================] - 70s 1s/step\n",
            "63/63 [==============================] - 11s 165ms/step\n"
          ]
        }
      ]
    },
    {
      "cell_type": "code",
      "source": [
        "print(pred_crnn)"
      ],
      "metadata": {
        "id": "12U5SinJiTIp",
        "colab": {
          "base_uri": "https://localhost:8080/"
        },
        "outputId": "2084ba5f-fd26-4de3-830a-1650a7879a6d"
      },
      "execution_count": 43,
      "outputs": [
        {
          "output_type": "stream",
          "name": "stdout",
          "text": [
            "[[0.12342775 0.10952457 0.13388434 ... 0.10861316 0.9205078  0.12997676]\n",
            " [0.12342775 0.10952457 0.13388434 ... 0.10861316 0.9205078  0.12997676]\n",
            " [0.12342775 0.10952457 0.13388434 ... 0.10861316 0.9205078  0.12997676]\n",
            " ...\n",
            " [0.12342775 0.10952457 0.13388434 ... 0.10861316 0.9205078  0.12997676]\n",
            " [0.12342775 0.10952457 0.13388434 ... 0.10861316 0.9205078  0.12997676]\n",
            " [0.12342775 0.10952457 0.13388434 ... 0.10861316 0.9205078  0.12997676]]\n"
          ]
        }
      ]
    },
    {
      "cell_type": "code",
      "source": [
        "a1 = np.where(pred_crnn>=0.45, 1,0)"
      ],
      "metadata": {
        "id": "Ai6wA12fiake"
      },
      "execution_count": 44,
      "outputs": []
    },
    {
      "cell_type": "code",
      "source": [
        "pred_cnn = cnn.predict(x = X_val_copy)"
      ],
      "metadata": {
        "id": "xgkD-X7OMpuP",
        "colab": {
          "base_uri": "https://localhost:8080/"
        },
        "outputId": "21c54205-0baf-455b-d5cb-6f94f043f171"
      },
      "execution_count": 45,
      "outputs": [
        {
          "output_type": "stream",
          "name": "stdout",
          "text": [
            "63/63 [==============================] - 10s 166ms/step\n"
          ]
        }
      ]
    },
    {
      "cell_type": "code",
      "source": [
        "a2 = np.where(pred_cnn>=0.5, 1,0)"
      ],
      "metadata": {
        "id": "BVTnRND4itgz"
      },
      "execution_count": 46,
      "outputs": []
    },
    {
      "cell_type": "code",
      "source": [
        "from sklearn.metrics import f1_score,precision_score,recall_score\n",
        "\n",
        "print(precision_score(Y_val_multihot, a1, average='samples'))\n",
        "print(recall_score(Y_val_multihot, a1 , average='samples'))\n",
        "print(f1_score(Y_val_multihot, a1, average='samples'))"
      ],
      "metadata": {
        "id": "2r_5WoV2POfn",
        "colab": {
          "base_uri": "https://localhost:8080/"
        },
        "outputId": "791ffd54-25e3-4186-a72d-74066d47a4f3"
      },
      "execution_count": 47,
      "outputs": [
        {
          "output_type": "stream",
          "name": "stdout",
          "text": [
            "0.623\n",
            "0.29043333333333327\n",
            "0.39035000000000003\n"
          ]
        }
      ]
    },
    {
      "cell_type": "code",
      "source": [
        "print(precision_score(Y_val_multihot, a2, average='samples'))\n",
        "print(recall_score(Y_val_multihot, a2 , average='samples'))\n",
        "print(f1_score(Y_val_multihot, a2 , average='samples'))"
      ],
      "metadata": {
        "id": "rXTzPLdpht0J",
        "colab": {
          "base_uri": "https://localhost:8080/"
        },
        "outputId": "5437f94a-03a1-4e43-c26d-05bc90df3d88"
      },
      "execution_count": 48,
      "outputs": [
        {
          "output_type": "stream",
          "name": "stdout",
          "text": [
            "0.382625\n",
            "0.43745000000000006\n",
            "0.3850523809523809\n"
          ]
        }
      ]
    },
    {
      "cell_type": "code",
      "source": [
        "print(a2.sum(axis=0))\n",
        "print(Y_val_multihot.sum(axis=0))"
      ],
      "metadata": {
        "id": "XqAo9DrGO3A7",
        "colab": {
          "base_uri": "https://localhost:8080/"
        },
        "outputId": "67c29342-1db1-49d7-fb46-83f8e6ccfd79"
      },
      "execution_count": 49,
      "outputs": [
        {
          "output_type": "stream",
          "name": "stdout",
          "text": [
            "[  30    0    0 1103    0    0 1260  532 2000    0]\n",
            "[ 392.  436.  274.  444.  306.  221.  130.  143. 1246.  151.]\n"
          ]
        }
      ]
    },
    {
      "cell_type": "code",
      "source": [
        "x1 = np.load(\"/content/drive/MyDrive/X.npy\")\n",
        "y1 = np.load(\"/content/drive/MyDrive/Y.npy\")"
      ],
      "metadata": {
        "id": "g_oFVoZL44pj"
      },
      "execution_count": 50,
      "outputs": []
    },
    {
      "cell_type": "code",
      "source": [
        "list_idx = []\n",
        "for i in range(10000) :\n",
        "  if (y1[i].sum(axis = 1))[9] >=90 :\n",
        "    list_idx.append(i)\n",
        "print(len(list_idx))"
      ],
      "metadata": {
        "id": "bAcyCrbWEAgh",
        "colab": {
          "base_uri": "https://localhost:8080/"
        },
        "outputId": "9a626371-0f15-4575-af9d-da1a4d223335"
      },
      "execution_count": 51,
      "outputs": [
        {
          "output_type": "stream",
          "name": "stdout",
          "text": [
            "8067\n"
          ]
        }
      ]
    },
    {
      "cell_type": "code",
      "source": [
        "for i in list_idx :\n",
        "  for p in range(1000) :\n",
        "    if y1[i][9][p] == 1 :\n",
        "      (x1[i].T)[p] = np.zeros((64,1))\n",
        "      y1[i][9][p] = 0"
      ],
      "metadata": {
        "id": "-9xhSLkaMaxg"
      },
      "execution_count": 52,
      "outputs": []
    },
    {
      "cell_type": "code",
      "source": [
        "np.save(\"/content/drive/MyDrive/balanced_X.npy\" , x1)\n",
        "np.save(\"/content/drive/MyDrive/balanced_Y.npy\" , y1)"
      ],
      "metadata": {
        "id": "kBPNhUDaMd4d"
      },
      "execution_count": 53,
      "outputs": []
    },
    {
      "cell_type": "code",
      "source": [
        "balanced_x = np.load(\"/content/drive/MyDrive/balanced_X.npy\")\n",
        "balanced_y = np.load(\"/content/drive/MyDrive/balanced_Y.npy\")"
      ],
      "metadata": {
        "id": "vY55bTIKNAfB"
      },
      "execution_count": null,
      "outputs": []
    },
    {
      "cell_type": "code",
      "source": [
        "cnn2 = cnn_model()"
      ],
      "metadata": {
        "id": "-91SBgH0NOBo"
      },
      "execution_count": null,
      "outputs": []
    },
    {
      "cell_type": "code",
      "source": [
        "balanced_y_multihot = []\n",
        "for i in balanced_y :\n",
        "  balanced_y_multihot.append(eventroll_to_multihot_vector(i))\n",
        "balanced_y_multihot  = np.array(balanced_y_multihot)"
      ],
      "metadata": {
        "id": "U_-gfjo2RliC"
      },
      "execution_count": null,
      "outputs": []
    },
    {
      "cell_type": "code",
      "source": [
        "cnn2.compile(optimizer=tf.keras.optimizers.Adam(learning_rate=1e-3), loss= 'binary_crossentropy' , metrics=['binary_accuracy'] )"
      ],
      "metadata": {
        "id": "52UFE9gwScPJ"
      },
      "execution_count": null,
      "outputs": []
    },
    {
      "cell_type": "code",
      "source": [
        "history1 = cnn2.fit(\n",
        "    x = balanced_x , y = balanced_y_multihot,\n",
        "    validation_split = 0.2,\n",
        "    epochs = 15 , \n",
        "    steps_per_epoch = 50,\n",
        "    batch_size = 32,\n",
        ")"
      ],
      "metadata": {
        "id": "5rKO24aOPVcm"
      },
      "execution_count": null,
      "outputs": []
    },
    {
      "cell_type": "markdown",
      "source": [
        "# Validation"
      ],
      "metadata": {
        "id": "rVcKkvbJ-mxl"
      }
    },
    {
      "cell_type": "code",
      "source": [
        "pred_cnn2 = cnn2.predict(x = X_val_copy)\n"
      ],
      "metadata": {
        "id": "7Is_SQ8qSClc"
      },
      "execution_count": null,
      "outputs": []
    },
    {
      "cell_type": "code",
      "source": [
        "cnn2.save(\"/content/drive/MyDrive/cnn_base_25_epochs.h5\")"
      ],
      "metadata": {
        "id": "ipICIu8oWD9V"
      },
      "execution_count": null,
      "outputs": []
    },
    {
      "cell_type": "code",
      "source": [
        "pred_cnn2 = np.where(pred_cnn2>=0.5, 1,0)"
      ],
      "metadata": {
        "id": "ThYKuuyNWgDj"
      },
      "execution_count": null,
      "outputs": []
    },
    {
      "cell_type": "code",
      "source": [
        "print(Y_val_multihot.sum(axis=0))\n",
        "print(pred_cnn2.sum(axis=0))"
      ],
      "metadata": {
        "id": "YxJY7-jVW0G9"
      },
      "execution_count": null,
      "outputs": []
    },
    {
      "cell_type": "code",
      "source": [],
      "metadata": {
        "id": "HQriF16RZ77w"
      },
      "execution_count": null,
      "outputs": []
    }
  ],
  "metadata": {
    "colab": {
      "provenance": []
    },
    "kernelspec": {
      "display_name": "Python 3",
      "name": "python3"
    },
    "language_info": {
      "name": "python"
    },
    "gpuClass": "standard"
  },
  "nbformat": 4,
  "nbformat_minor": 0
}